{
 "cells": [
  {
   "cell_type": "markdown",
   "metadata": {},
   "source": [
    "# BMW car pricing"
   ]
  },
  {
   "cell_type": "markdown",
   "metadata": {},
   "source": [
    "## Libraries"
   ]
  },
  {
   "cell_type": "code",
   "execution_count": 1,
   "metadata": {},
   "outputs": [],
   "source": [
    "import pandas as pd\n",
    "import numpy as np\n",
    "import seaborn as sns\n",
    "import matplotlib.pyplot as plt\n",
    "%matplotlib inline\n",
    "from scipy import stats\n",
    "import seaborn as sns\n",
    "from datetime import datetime"
   ]
  },
  {
   "cell_type": "markdown",
   "metadata": {},
   "source": [
    "## Import Data"
   ]
  },
  {
   "cell_type": "code",
   "execution_count": 2,
   "metadata": {},
   "outputs": [],
   "source": [
    "df = pd.read_csv(r'C:\\Users\\Jordi Grau\\Desktop\\Data Science Project\\BMW_Regression-1\\bmw_pricing_v2.csv', sep=',')"
   ]
  },
  {
   "cell_type": "code",
   "execution_count": 3,
   "metadata": {},
   "outputs": [
    {
     "data": {
      "text/html": [
       "<div>\n",
       "<style scoped>\n",
       "    .dataframe tbody tr th:only-of-type {\n",
       "        vertical-align: middle;\n",
       "    }\n",
       "\n",
       "    .dataframe tbody tr th {\n",
       "        vertical-align: top;\n",
       "    }\n",
       "\n",
       "    .dataframe thead th {\n",
       "        text-align: right;\n",
       "    }\n",
       "</style>\n",
       "<table border=\"1\" class=\"dataframe\">\n",
       "  <thead>\n",
       "    <tr style=\"text-align: right;\">\n",
       "      <th></th>\n",
       "      <th>marca</th>\n",
       "      <th>modelo</th>\n",
       "      <th>km</th>\n",
       "      <th>potencia</th>\n",
       "      <th>fecha_registro</th>\n",
       "      <th>tipo_gasolina</th>\n",
       "      <th>color</th>\n",
       "      <th>tipo_coche</th>\n",
       "      <th>volante_regulable</th>\n",
       "      <th>aire_acondicionado</th>\n",
       "      <th>camara_trasera</th>\n",
       "      <th>asientos_traseros_plegables</th>\n",
       "      <th>elevalunas_electrico</th>\n",
       "      <th>bluetooth</th>\n",
       "      <th>gps</th>\n",
       "      <th>alerta_lim_velocidad</th>\n",
       "      <th>precio</th>\n",
       "      <th>fecha_venta</th>\n",
       "    </tr>\n",
       "  </thead>\n",
       "  <tbody>\n",
       "    <tr>\n",
       "      <th>0</th>\n",
       "      <td>BMW</td>\n",
       "      <td>118</td>\n",
       "      <td>140411.0</td>\n",
       "      <td>100.0</td>\n",
       "      <td>2012-02-01</td>\n",
       "      <td>diesel</td>\n",
       "      <td>black</td>\n",
       "      <td>convertible</td>\n",
       "      <td>True</td>\n",
       "      <td>True</td>\n",
       "      <td>False</td>\n",
       "      <td>False</td>\n",
       "      <td>True</td>\n",
       "      <td>True</td>\n",
       "      <td>True</td>\n",
       "      <td>False</td>\n",
       "      <td>11300.0</td>\n",
       "      <td>2018-01-01</td>\n",
       "    </tr>\n",
       "    <tr>\n",
       "      <th>1</th>\n",
       "      <td>BMW</td>\n",
       "      <td>M4</td>\n",
       "      <td>13929.0</td>\n",
       "      <td>317.0</td>\n",
       "      <td>2016-04-01</td>\n",
       "      <td>petrol</td>\n",
       "      <td>grey</td>\n",
       "      <td>convertible</td>\n",
       "      <td>True</td>\n",
       "      <td>True</td>\n",
       "      <td>False</td>\n",
       "      <td>False</td>\n",
       "      <td>False</td>\n",
       "      <td>True</td>\n",
       "      <td>True</td>\n",
       "      <td>True</td>\n",
       "      <td>69700.0</td>\n",
       "      <td>2018-02-01</td>\n",
       "    </tr>\n",
       "    <tr>\n",
       "      <th>2</th>\n",
       "      <td>BMW</td>\n",
       "      <td>320</td>\n",
       "      <td>183297.0</td>\n",
       "      <td>120.0</td>\n",
       "      <td>2012-04-01</td>\n",
       "      <td>diesel</td>\n",
       "      <td>white</td>\n",
       "      <td>convertible</td>\n",
       "      <td>False</td>\n",
       "      <td>False</td>\n",
       "      <td>False</td>\n",
       "      <td>False</td>\n",
       "      <td>True</td>\n",
       "      <td>False</td>\n",
       "      <td>True</td>\n",
       "      <td>False</td>\n",
       "      <td>10200.0</td>\n",
       "      <td>2018-02-01</td>\n",
       "    </tr>\n",
       "    <tr>\n",
       "      <th>3</th>\n",
       "      <td>BMW</td>\n",
       "      <td>420</td>\n",
       "      <td>128035.0</td>\n",
       "      <td>135.0</td>\n",
       "      <td>2014-07-01</td>\n",
       "      <td>diesel</td>\n",
       "      <td>red</td>\n",
       "      <td>convertible</td>\n",
       "      <td>True</td>\n",
       "      <td>True</td>\n",
       "      <td>False</td>\n",
       "      <td>False</td>\n",
       "      <td>True</td>\n",
       "      <td>True</td>\n",
       "      <td>True</td>\n",
       "      <td>True</td>\n",
       "      <td>25100.0</td>\n",
       "      <td>2018-02-01</td>\n",
       "    </tr>\n",
       "    <tr>\n",
       "      <th>4</th>\n",
       "      <td>BMW</td>\n",
       "      <td>425</td>\n",
       "      <td>97097.0</td>\n",
       "      <td>160.0</td>\n",
       "      <td>2014-12-01</td>\n",
       "      <td>diesel</td>\n",
       "      <td>silver</td>\n",
       "      <td>convertible</td>\n",
       "      <td>True</td>\n",
       "      <td>True</td>\n",
       "      <td>False</td>\n",
       "      <td>False</td>\n",
       "      <td>False</td>\n",
       "      <td>True</td>\n",
       "      <td>True</td>\n",
       "      <td>True</td>\n",
       "      <td>33400.0</td>\n",
       "      <td>2018-04-01</td>\n",
       "    </tr>\n",
       "    <tr>\n",
       "      <th>...</th>\n",
       "      <td>...</td>\n",
       "      <td>...</td>\n",
       "      <td>...</td>\n",
       "      <td>...</td>\n",
       "      <td>...</td>\n",
       "      <td>...</td>\n",
       "      <td>...</td>\n",
       "      <td>...</td>\n",
       "      <td>...</td>\n",
       "      <td>...</td>\n",
       "      <td>...</td>\n",
       "      <td>...</td>\n",
       "      <td>...</td>\n",
       "      <td>...</td>\n",
       "      <td>...</td>\n",
       "      <td>...</td>\n",
       "      <td>...</td>\n",
       "      <td>...</td>\n",
       "    </tr>\n",
       "    <tr>\n",
       "      <th>4838</th>\n",
       "      <td>BMW</td>\n",
       "      <td>218 Gran Tourer</td>\n",
       "      <td>39743.0</td>\n",
       "      <td>110.0</td>\n",
       "      <td>2015-10-01</td>\n",
       "      <td>diesel</td>\n",
       "      <td>black</td>\n",
       "      <td>van</td>\n",
       "      <td>False</td>\n",
       "      <td>True</td>\n",
       "      <td>False</td>\n",
       "      <td>False</td>\n",
       "      <td>False</td>\n",
       "      <td>False</td>\n",
       "      <td>True</td>\n",
       "      <td>False</td>\n",
       "      <td>14600.0</td>\n",
       "      <td>2018-08-01</td>\n",
       "    </tr>\n",
       "    <tr>\n",
       "      <th>4839</th>\n",
       "      <td>BMW</td>\n",
       "      <td>218 Active Tourer</td>\n",
       "      <td>49832.0</td>\n",
       "      <td>100.0</td>\n",
       "      <td>2015-06-01</td>\n",
       "      <td>diesel</td>\n",
       "      <td>grey</td>\n",
       "      <td>van</td>\n",
       "      <td>False</td>\n",
       "      <td>True</td>\n",
       "      <td>False</td>\n",
       "      <td>False</td>\n",
       "      <td>False</td>\n",
       "      <td>False</td>\n",
       "      <td>True</td>\n",
       "      <td>True</td>\n",
       "      <td>17500.0</td>\n",
       "      <td>2018-08-01</td>\n",
       "    </tr>\n",
       "    <tr>\n",
       "      <th>4840</th>\n",
       "      <td>BMW</td>\n",
       "      <td>218 Gran Tourer</td>\n",
       "      <td>19633.0</td>\n",
       "      <td>110.0</td>\n",
       "      <td>2015-10-01</td>\n",
       "      <td>diesel</td>\n",
       "      <td>grey</td>\n",
       "      <td>van</td>\n",
       "      <td>False</td>\n",
       "      <td>True</td>\n",
       "      <td>False</td>\n",
       "      <td>False</td>\n",
       "      <td>False</td>\n",
       "      <td>False</td>\n",
       "      <td>True</td>\n",
       "      <td>True</td>\n",
       "      <td>17000.0</td>\n",
       "      <td>2018-09-01</td>\n",
       "    </tr>\n",
       "    <tr>\n",
       "      <th>4841</th>\n",
       "      <td>BMW</td>\n",
       "      <td>218 Active Tourer</td>\n",
       "      <td>27920.0</td>\n",
       "      <td>110.0</td>\n",
       "      <td>2016-04-01</td>\n",
       "      <td>diesel</td>\n",
       "      <td>brown</td>\n",
       "      <td>van</td>\n",
       "      <td>True</td>\n",
       "      <td>True</td>\n",
       "      <td>False</td>\n",
       "      <td>False</td>\n",
       "      <td>False</td>\n",
       "      <td>False</td>\n",
       "      <td>True</td>\n",
       "      <td>True</td>\n",
       "      <td>22700.0</td>\n",
       "      <td>2018-09-01</td>\n",
       "    </tr>\n",
       "    <tr>\n",
       "      <th>4842</th>\n",
       "      <td>BMW</td>\n",
       "      <td>525</td>\n",
       "      <td>195840.0</td>\n",
       "      <td>160.0</td>\n",
       "      <td>2013-01-01</td>\n",
       "      <td>diesel</td>\n",
       "      <td>grey</td>\n",
       "      <td>NaN</td>\n",
       "      <td>True</td>\n",
       "      <td>True</td>\n",
       "      <td>False</td>\n",
       "      <td>False</td>\n",
       "      <td>True</td>\n",
       "      <td>False</td>\n",
       "      <td>True</td>\n",
       "      <td>True</td>\n",
       "      <td>15500.0</td>\n",
       "      <td>2018-09-01</td>\n",
       "    </tr>\n",
       "  </tbody>\n",
       "</table>\n",
       "<p>4843 rows × 18 columns</p>\n",
       "</div>"
      ],
      "text/plain": [
       "     marca             modelo        km  potencia fecha_registro  \\\n",
       "0      BMW                118  140411.0     100.0     2012-02-01   \n",
       "1      BMW                 M4   13929.0     317.0     2016-04-01   \n",
       "2      BMW                320  183297.0     120.0     2012-04-01   \n",
       "3      BMW                420  128035.0     135.0     2014-07-01   \n",
       "4      BMW                425   97097.0     160.0     2014-12-01   \n",
       "...    ...                ...       ...       ...            ...   \n",
       "4838   BMW    218 Gran Tourer   39743.0     110.0     2015-10-01   \n",
       "4839   BMW  218 Active Tourer   49832.0     100.0     2015-06-01   \n",
       "4840   BMW    218 Gran Tourer   19633.0     110.0     2015-10-01   \n",
       "4841   BMW  218 Active Tourer   27920.0     110.0     2016-04-01   \n",
       "4842   BMW                525  195840.0     160.0     2013-01-01   \n",
       "\n",
       "     tipo_gasolina   color   tipo_coche volante_regulable aire_acondicionado  \\\n",
       "0           diesel   black  convertible              True               True   \n",
       "1           petrol    grey  convertible              True               True   \n",
       "2           diesel   white  convertible             False              False   \n",
       "3           diesel     red  convertible              True               True   \n",
       "4           diesel  silver  convertible              True               True   \n",
       "...            ...     ...          ...               ...                ...   \n",
       "4838        diesel   black          van             False               True   \n",
       "4839        diesel    grey          van             False               True   \n",
       "4840        diesel    grey          van             False               True   \n",
       "4841        diesel   brown          van              True               True   \n",
       "4842        diesel    grey          NaN              True               True   \n",
       "\n",
       "     camara_trasera asientos_traseros_plegables elevalunas_electrico  \\\n",
       "0             False                       False                 True   \n",
       "1             False                       False                False   \n",
       "2             False                       False                 True   \n",
       "3             False                       False                 True   \n",
       "4             False                       False                False   \n",
       "...             ...                         ...                  ...   \n",
       "4838          False                       False                False   \n",
       "4839          False                       False                False   \n",
       "4840          False                       False                False   \n",
       "4841          False                       False                False   \n",
       "4842          False                       False                 True   \n",
       "\n",
       "     bluetooth   gps alerta_lim_velocidad   precio fecha_venta  \n",
       "0         True  True                False  11300.0  2018-01-01  \n",
       "1         True  True                 True  69700.0  2018-02-01  \n",
       "2        False  True                False  10200.0  2018-02-01  \n",
       "3         True  True                 True  25100.0  2018-02-01  \n",
       "4         True  True                 True  33400.0  2018-04-01  \n",
       "...        ...   ...                  ...      ...         ...  \n",
       "4838     False  True                False  14600.0  2018-08-01  \n",
       "4839     False  True                 True  17500.0  2018-08-01  \n",
       "4840     False  True                 True  17000.0  2018-09-01  \n",
       "4841     False  True                 True  22700.0  2018-09-01  \n",
       "4842     False  True                 True  15500.0  2018-09-01  \n",
       "\n",
       "[4843 rows x 18 columns]"
      ]
     },
     "execution_count": 3,
     "metadata": {},
     "output_type": "execute_result"
    }
   ],
   "source": [
    "df"
   ]
  },
  {
   "cell_type": "markdown",
   "metadata": {},
   "source": [
    "# Functions"
   ]
  },
  {
   "cell_type": "code",
   "execution_count": 4,
   "metadata": {},
   "outputs": [],
   "source": [
    "def plot_cat_values(dataframe, column, target_column):\n",
    "\n",
    "  plt.figure(figsize=(15, 8))\n",
    "\n",
    "  ax1 = plt.subplot(2, 1, 1)\n",
    "  ax1 = sns.countplot(dataframe[column], order = list(dataframe[column].unique()))\n",
    "\n",
    "  ax2 = plt.subplot(2, 1, 2)\n",
    "  ax2 = sns.boxenplot(data=dataframe[dataframe[target_column]>0], x=column, y=target_column, order = list(dataframe[column].unique()))\n",
    "\n",
    "  plt.show()"
   ]
  },
  {
   "cell_type": "code",
   "execution_count": 5,
   "metadata": {},
   "outputs": [],
   "source": [
    "def explore_cat_values(dataframe, column, target_column):\n",
    "  results_df = dataframe[dataframe[target_column]>0].pivot_table( index = column, values = TARGET_LN, aggfunc = [len, np.mean])\n",
    "  results_df.columns = ['cars_bought', 'mean_price_ln']\n",
    "  results_df['n_rows'] = dataframe[column].value_counts(dropna = False)\n",
    "  results_df['pct_rows'] = dataframe[column].value_counts(dropna = False, normalize = True)\n",
    "  results_df['pct_cars_bought'] = results_df['cars_bought']  / results_df['n_rows']\n",
    "  return results_df[['n_rows', 'pct_rows', 'cars_bought','pct_cars_bought', 'mean_price_ln']]"
   ]
  },
  {
   "cell_type": "code",
   "execution_count": 6,
   "metadata": {},
   "outputs": [],
   "source": [
    "def set_Bot_Others(dataframe, column, num_values):\n",
    "  top_cat_list = dataframe[column].value_counts().head(num_values).index.to_list()\n",
    "  top_cat_list.append('Others')\n",
    "  dataframe[column] = pd.Categorical(dataframe[column], categories = top_cat_list )\n",
    "  return dataframe[column].fillna('Others')"
   ]
  },
  {
   "cell_type": "code",
   "execution_count": 7,
   "metadata": {},
   "outputs": [],
   "source": [
    "def days_between(d1, d2):\n",
    "    d1 = datetime.strptime(d1, \"%Y-%m-%d\")\n",
    "    d2 = datetime.strptime(d2, \"%Y-%m-%d\")\n",
    "    return abs((d2 - d1).days)"
   ]
  },
  {
   "cell_type": "markdown",
   "metadata": {},
   "source": [
    "# EDA"
   ]
  },
  {
   "cell_type": "code",
   "execution_count": 8,
   "metadata": {},
   "outputs": [
    {
     "name": "stdout",
     "output_type": "stream",
     "text": [
      "<class 'pandas.core.frame.DataFrame'>\n",
      "RangeIndex: 4843 entries, 0 to 4842\n",
      "Data columns (total 18 columns):\n",
      " #   Column                       Non-Null Count  Dtype  \n",
      "---  ------                       --------------  -----  \n",
      " 0   marca                        4841 non-null   object \n",
      " 1   modelo                       4840 non-null   object \n",
      " 2   km                           4841 non-null   float64\n",
      " 3   potencia                     4842 non-null   float64\n",
      " 4   fecha_registro               4842 non-null   object \n",
      " 5   tipo_gasolina                4838 non-null   object \n",
      " 6   color                        4831 non-null   object \n",
      " 7   tipo_coche                   4834 non-null   object \n",
      " 8   volante_regulable            4839 non-null   object \n",
      " 9   aire_acondicionado           4841 non-null   object \n",
      " 10  camara_trasera               4841 non-null   object \n",
      " 11  asientos_traseros_plegables  4839 non-null   object \n",
      " 12  elevalunas_electrico         4841 non-null   object \n",
      " 13  bluetooth                    4839 non-null   object \n",
      " 14  gps                          4843 non-null   bool   \n",
      " 15  alerta_lim_velocidad         4841 non-null   object \n",
      " 16  precio                       4837 non-null   float64\n",
      " 17  fecha_venta                  4842 non-null   object \n",
      "dtypes: bool(1), float64(3), object(14)\n",
      "memory usage: 648.1+ KB\n"
     ]
    }
   ],
   "source": [
    "df.info()"
   ]
  },
  {
   "cell_type": "code",
   "execution_count": 9,
   "metadata": {},
   "outputs": [
    {
     "name": "stdout",
     "output_type": "stream",
     "text": [
      "<class 'pandas.core.frame.DataFrame'>\n",
      "RangeIndex: 4843 entries, 0 to 4842\n",
      "Columns: 18 entries, marca to fecha_venta\n",
      "dtypes: bool(1), float64(3), object(14)\n",
      "memory usage: 648.1+ KB\n"
     ]
    }
   ],
   "source": [
    "df.info(verbose=False)"
   ]
  },
  {
   "cell_type": "code",
   "execution_count": 10,
   "metadata": {},
   "outputs": [],
   "source": [
    "description = df.describe(include='all').T"
   ]
  },
  {
   "cell_type": "code",
   "execution_count": 11,
   "metadata": {},
   "outputs": [],
   "source": [
    "description.to_excel('df_description.xlsx')"
   ]
  },
  {
   "cell_type": "markdown",
   "metadata": {},
   "source": [
    "# Analisis del Target"
   ]
  },
  {
   "cell_type": "code",
   "execution_count": 12,
   "metadata": {},
   "outputs": [],
   "source": [
    "TARGET = 'precio'"
   ]
  },
  {
   "cell_type": "code",
   "execution_count": 13,
   "metadata": {},
   "outputs": [
    {
     "data": {
      "text/plain": [
       "count      4837.000000\n",
       "mean      15831.920612\n",
       "std        9222.630708\n",
       "min         100.000000\n",
       "25%       10800.000000\n",
       "50%       14200.000000\n",
       "75%       18600.000000\n",
       "max      178500.000000\n",
       "Name: precio, dtype: float64"
      ]
     },
     "execution_count": 13,
     "metadata": {},
     "output_type": "execute_result"
    }
   ],
   "source": [
    "df[TARGET].describe()"
   ]
  },
  {
   "cell_type": "code",
   "execution_count": 14,
   "metadata": {},
   "outputs": [
    {
     "name": "stderr",
     "output_type": "stream",
     "text": [
      "D:\\DS\\lib\\site-packages\\seaborn\\distributions.py:2619: FutureWarning: `distplot` is a deprecated function and will be removed in a future version. Please adapt your code to use either `displot` (a figure-level function with similar flexibility) or `histplot` (an axes-level function for histograms).\n",
      "  warnings.warn(msg, FutureWarning)\n"
     ]
    },
    {
     "data": {
      "text/plain": [
       "<AxesSubplot:xlabel='precio', ylabel='Density'>"
      ]
     },
     "execution_count": 14,
     "metadata": {},
     "output_type": "execute_result"
    },
    {
     "data": {
      "image/png": "[encoded data removed]",
      "text/plain": [
       "<Figure size 432x288 with 1 Axes>"
      ]
     },
     "metadata": {
      "needs_background": "light"
     },
     "output_type": "display_data"
    }
   ],
   "source": [
    "sns.distplot(df[TARGET], fit = stats.norm)"
   ]
  },
  {
   "cell_type": "code",
   "execution_count": 15,
   "metadata": {},
   "outputs": [],
   "source": [
    "df[TARGET].fillna(df[TARGET].mean(), inplace = True)"
   ]
  },
  {
   "cell_type": "code",
   "execution_count": 16,
   "metadata": {},
   "outputs": [],
   "source": [
    "df['TARGET_LN'] = df[TARGET].apply(lambda x: np.log10(x))"
   ]
  },
  {
   "cell_type": "code",
   "execution_count": 17,
   "metadata": {},
   "outputs": [
    {
     "name": "stderr",
     "output_type": "stream",
     "text": [
      "D:\\DS\\lib\\site-packages\\seaborn\\distributions.py:2619: FutureWarning: `distplot` is a deprecated function and will be removed in a future version. Please adapt your code to use either `displot` (a figure-level function with similar flexibility) or `histplot` (an axes-level function for histograms).\n",
      "  warnings.warn(msg, FutureWarning)\n"
     ]
    },
    {
     "data": {
      "text/plain": [
       "<AxesSubplot:xlabel='TARGET_LN', ylabel='Density'>"
      ]
     },
     "execution_count": 17,
     "metadata": {},
     "output_type": "execute_result"
    },
    {
     "data": {
      "image/png": "[encoded data removed]",
      "text/plain": [
       "<Figure size 432x288 with 1 Axes>"
      ]
     },
     "metadata": {
      "needs_background": "light"
     },
     "output_type": "display_data"
    }
   ],
   "source": [
    "sns.distplot(df['TARGET_LN'], fit = stats.norm)"
   ]
  },
  {
   "cell_type": "code",
   "execution_count": 18,
   "metadata": {},
   "outputs": [],
   "source": [
    "TARGET_LN = 'TARGET_LN'"
   ]
  },
  {
   "cell_type": "markdown",
   "metadata": {},
   "source": [
    "# Data Understanding"
   ]
  },
  {
   "cell_type": "markdown",
   "metadata": {},
   "source": [
    "## Categoricas"
   ]
  },
  {
   "cell_type": "markdown",
   "metadata": {},
   "source": [
    "### Marca"
   ]
  },
  {
   "cell_type": "code",
   "execution_count": 19,
   "metadata": {},
   "outputs": [
    {
     "data": {
      "text/plain": [
       "BMW    4841\n",
       "NaN       2\n",
       "Name: marca, dtype: int64"
      ]
     },
     "execution_count": 19,
     "metadata": {},
     "output_type": "execute_result"
    }
   ],
   "source": [
    "df['marca'].value_counts(dropna = False)"
   ]
  },
  {
   "cell_type": "code",
   "execution_count": 20,
   "metadata": {},
   "outputs": [
    {
     "data": {
      "text/html": [
       "<div>\n",
       "<style scoped>\n",
       "    .dataframe tbody tr th:only-of-type {\n",
       "        vertical-align: middle;\n",
       "    }\n",
       "\n",
       "    .dataframe tbody tr th {\n",
       "        vertical-align: top;\n",
       "    }\n",
       "\n",
       "    .dataframe thead th {\n",
       "        text-align: right;\n",
       "    }\n",
       "</style>\n",
       "<table border=\"1\" class=\"dataframe\">\n",
       "  <thead>\n",
       "    <tr style=\"text-align: right;\">\n",
       "      <th></th>\n",
       "      <th>marca</th>\n",
       "      <th>modelo</th>\n",
       "      <th>km</th>\n",
       "      <th>potencia</th>\n",
       "      <th>fecha_registro</th>\n",
       "      <th>tipo_gasolina</th>\n",
       "      <th>color</th>\n",
       "      <th>tipo_coche</th>\n",
       "      <th>volante_regulable</th>\n",
       "      <th>aire_acondicionado</th>\n",
       "      <th>camara_trasera</th>\n",
       "      <th>asientos_traseros_plegables</th>\n",
       "      <th>elevalunas_electrico</th>\n",
       "      <th>bluetooth</th>\n",
       "      <th>gps</th>\n",
       "      <th>alerta_lim_velocidad</th>\n",
       "      <th>precio</th>\n",
       "      <th>fecha_venta</th>\n",
       "      <th>TARGET_LN</th>\n",
       "    </tr>\n",
       "  </thead>\n",
       "  <tbody>\n",
       "    <tr>\n",
       "      <th>161</th>\n",
       "      <td>NaN</td>\n",
       "      <td>520</td>\n",
       "      <td>246424.0</td>\n",
       "      <td>120.0</td>\n",
       "      <td>2010-07-01</td>\n",
       "      <td>diesel</td>\n",
       "      <td>black</td>\n",
       "      <td>estate</td>\n",
       "      <td>True</td>\n",
       "      <td>True</td>\n",
       "      <td>False</td>\n",
       "      <td>False</td>\n",
       "      <td>False</td>\n",
       "      <td>False</td>\n",
       "      <td>True</td>\n",
       "      <td>False</td>\n",
       "      <td>6000.0</td>\n",
       "      <td>2018-08-01</td>\n",
       "      <td>3.778151</td>\n",
       "    </tr>\n",
       "    <tr>\n",
       "      <th>210</th>\n",
       "      <td>NaN</td>\n",
       "      <td>320</td>\n",
       "      <td>163879.0</td>\n",
       "      <td>120.0</td>\n",
       "      <td>2012-03-01</td>\n",
       "      <td>diesel</td>\n",
       "      <td>grey</td>\n",
       "      <td>estate</td>\n",
       "      <td>False</td>\n",
       "      <td>False</td>\n",
       "      <td>False</td>\n",
       "      <td>False</td>\n",
       "      <td>False</td>\n",
       "      <td>False</td>\n",
       "      <td>True</td>\n",
       "      <td>False</td>\n",
       "      <td>8600.0</td>\n",
       "      <td>2018-06-01</td>\n",
       "      <td>3.934498</td>\n",
       "    </tr>\n",
       "  </tbody>\n",
       "</table>\n",
       "</div>"
      ],
      "text/plain": [
       "    marca modelo        km  potencia fecha_registro tipo_gasolina  color  \\\n",
       "161   NaN    520  246424.0     120.0     2010-07-01        diesel  black   \n",
       "210   NaN    320  163879.0     120.0     2012-03-01        diesel   grey   \n",
       "\n",
       "    tipo_coche volante_regulable aire_acondicionado camara_trasera  \\\n",
       "161     estate              True               True          False   \n",
       "210     estate             False              False          False   \n",
       "\n",
       "    asientos_traseros_plegables elevalunas_electrico bluetooth   gps  \\\n",
       "161                       False                False     False  True   \n",
       "210                       False                False     False  True   \n",
       "\n",
       "    alerta_lim_velocidad  precio fecha_venta  TARGET_LN  \n",
       "161                False  6000.0  2018-08-01   3.778151  \n",
       "210                False  8600.0  2018-06-01   3.934498  "
      ]
     },
     "execution_count": 20,
     "metadata": {},
     "output_type": "execute_result"
    }
   ],
   "source": [
    "df[df['marca'].isnull()]"
   ]
  },
  {
   "cell_type": "code",
   "execution_count": 21,
   "metadata": {},
   "outputs": [],
   "source": [
    "df['marca'].fillna('BMW', inplace = True)"
   ]
  },
  {
   "cell_type": "markdown",
   "metadata": {},
   "source": [
    "### Modelo"
   ]
  },
  {
   "cell_type": "code",
   "execution_count": 22,
   "metadata": {},
   "outputs": [
    {
     "data": {
      "text/plain": [
       "320                752\n",
       "520                633\n",
       "318                568\n",
       "X3                 438\n",
       "116                358\n",
       "                  ... \n",
       "M135                 1\n",
       "225                  1\n",
       "i8                   1\n",
       "630                  1\n",
       "214 Gran Tourer      1\n",
       "Name: modelo, Length: 76, dtype: int64"
      ]
     },
     "execution_count": 22,
     "metadata": {},
     "output_type": "execute_result"
    }
   ],
   "source": [
    "df['modelo'].value_counts(dropna = True)"
   ]
  },
  {
   "cell_type": "code",
   "execution_count": 23,
   "metadata": {},
   "outputs": [
    {
     "data": {
      "text/plain": [
       "76"
      ]
     },
     "execution_count": 23,
     "metadata": {},
     "output_type": "execute_result"
    }
   ],
   "source": [
    "df['modelo'].nunique()"
   ]
  },
  {
   "cell_type": "code",
   "execution_count": 24,
   "metadata": {},
   "outputs": [],
   "source": [
    "df['modelo'].fillna('Others_null', inplace=True) #asignamos Others null a los nulos para diferenciarlos de las agrupaciones de las etiquetas con menos observaciones (Others)"
   ]
  },
  {
   "cell_type": "code",
   "execution_count": 25,
   "metadata": {},
   "outputs": [
    {
     "data": {
      "text/html": [
       "<div>\n",
       "<style scoped>\n",
       "    .dataframe tbody tr th:only-of-type {\n",
       "        vertical-align: middle;\n",
       "    }\n",
       "\n",
       "    .dataframe tbody tr th {\n",
       "        vertical-align: top;\n",
       "    }\n",
       "\n",
       "    .dataframe thead th {\n",
       "        text-align: right;\n",
       "    }\n",
       "</style>\n",
       "<table border=\"1\" class=\"dataframe\">\n",
       "  <thead>\n",
       "    <tr style=\"text-align: right;\">\n",
       "      <th></th>\n",
       "      <th>n_rows</th>\n",
       "      <th>pct_rows</th>\n",
       "      <th>cars_bought</th>\n",
       "      <th>pct_cars_bought</th>\n",
       "      <th>mean_price_ln</th>\n",
       "    </tr>\n",
       "    <tr>\n",
       "      <th>modelo</th>\n",
       "      <th></th>\n",
       "      <th></th>\n",
       "      <th></th>\n",
       "      <th></th>\n",
       "      <th></th>\n",
       "    </tr>\n",
       "  </thead>\n",
       "  <tbody>\n",
       "    <tr>\n",
       "      <th>320</th>\n",
       "      <td>752</td>\n",
       "      <td>0.155276</td>\n",
       "      <td>752</td>\n",
       "      <td>1.0</td>\n",
       "      <td>4.030376</td>\n",
       "    </tr>\n",
       "    <tr>\n",
       "      <th>520</th>\n",
       "      <td>633</td>\n",
       "      <td>0.130704</td>\n",
       "      <td>633</td>\n",
       "      <td>1.0</td>\n",
       "      <td>4.163448</td>\n",
       "    </tr>\n",
       "    <tr>\n",
       "      <th>318</th>\n",
       "      <td>568</td>\n",
       "      <td>0.117283</td>\n",
       "      <td>568</td>\n",
       "      <td>1.0</td>\n",
       "      <td>3.993292</td>\n",
       "    </tr>\n",
       "    <tr>\n",
       "      <th>X3</th>\n",
       "      <td>438</td>\n",
       "      <td>0.090440</td>\n",
       "      <td>438</td>\n",
       "      <td>1.0</td>\n",
       "      <td>4.219014</td>\n",
       "    </tr>\n",
       "    <tr>\n",
       "      <th>116</th>\n",
       "      <td>358</td>\n",
       "      <td>0.073921</td>\n",
       "      <td>358</td>\n",
       "      <td>1.0</td>\n",
       "      <td>3.961056</td>\n",
       "    </tr>\n",
       "    <tr>\n",
       "      <th>X1</th>\n",
       "      <td>274</td>\n",
       "      <td>0.056577</td>\n",
       "      <td>274</td>\n",
       "      <td>1.0</td>\n",
       "      <td>4.073793</td>\n",
       "    </tr>\n",
       "    <tr>\n",
       "      <th>316</th>\n",
       "      <td>235</td>\n",
       "      <td>0.048524</td>\n",
       "      <td>235</td>\n",
       "      <td>1.0</td>\n",
       "      <td>3.971218</td>\n",
       "    </tr>\n",
       "    <tr>\n",
       "      <th>X5</th>\n",
       "      <td>231</td>\n",
       "      <td>0.047698</td>\n",
       "      <td>231</td>\n",
       "      <td>1.0</td>\n",
       "      <td>4.437903</td>\n",
       "    </tr>\n",
       "    <tr>\n",
       "      <th>525</th>\n",
       "      <td>184</td>\n",
       "      <td>0.037993</td>\n",
       "      <td>184</td>\n",
       "      <td>1.0</td>\n",
       "      <td>4.087024</td>\n",
       "    </tr>\n",
       "    <tr>\n",
       "      <th>530</th>\n",
       "      <td>157</td>\n",
       "      <td>0.032418</td>\n",
       "      <td>157</td>\n",
       "      <td>1.0</td>\n",
       "      <td>4.249487</td>\n",
       "    </tr>\n",
       "    <tr>\n",
       "      <th>118</th>\n",
       "      <td>143</td>\n",
       "      <td>0.029527</td>\n",
       "      <td>143</td>\n",
       "      <td>1.0</td>\n",
       "      <td>3.927710</td>\n",
       "    </tr>\n",
       "    <tr>\n",
       "      <th>318 Gran Turismo</th>\n",
       "      <td>97</td>\n",
       "      <td>0.020029</td>\n",
       "      <td>97</td>\n",
       "      <td>1.0</td>\n",
       "      <td>4.165215</td>\n",
       "    </tr>\n",
       "  </tbody>\n",
       "</table>\n",
       "</div>"
      ],
      "text/plain": [
       "                  n_rows  pct_rows  cars_bought  pct_cars_bought  \\\n",
       "modelo                                                             \n",
       "320                  752  0.155276          752              1.0   \n",
       "520                  633  0.130704          633              1.0   \n",
       "318                  568  0.117283          568              1.0   \n",
       "X3                   438  0.090440          438              1.0   \n",
       "116                  358  0.073921          358              1.0   \n",
       "X1                   274  0.056577          274              1.0   \n",
       "316                  235  0.048524          235              1.0   \n",
       "X5                   231  0.047698          231              1.0   \n",
       "525                  184  0.037993          184              1.0   \n",
       "530                  157  0.032418          157              1.0   \n",
       "118                  143  0.029527          143              1.0   \n",
       "318 Gran Turismo      97  0.020029           97              1.0   \n",
       "\n",
       "                  mean_price_ln  \n",
       "modelo                           \n",
       "320                    4.030376  \n",
       "520                    4.163448  \n",
       "318                    3.993292  \n",
       "X3                     4.219014  \n",
       "116                    3.961056  \n",
       "X1                     4.073793  \n",
       "316                    3.971218  \n",
       "X5                     4.437903  \n",
       "525                    4.087024  \n",
       "530                    4.249487  \n",
       "118                    3.927710  \n",
       "318 Gran Turismo       4.165215  "
      ]
     },
     "execution_count": 25,
     "metadata": {},
     "output_type": "execute_result"
    }
   ],
   "source": [
    "explore_cat_values(df, 'modelo', TARGET_LN).sort_values('n_rows', ascending = False).head(12)"
   ]
  },
  {
   "cell_type": "code",
   "execution_count": 26,
   "metadata": {},
   "outputs": [],
   "source": [
    "# Nos quedaremos con el top 11 y los demás le asignaremos la categoria 'Others' para ahcer OHE"
   ]
  },
  {
   "cell_type": "code",
   "execution_count": 27,
   "metadata": {},
   "outputs": [],
   "source": [
    "df['modelo'] = set_Bot_Others(df, 'modelo', 11)"
   ]
  },
  {
   "cell_type": "markdown",
   "metadata": {},
   "source": [
    "### Tipo Gasolina"
   ]
  },
  {
   "cell_type": "code",
   "execution_count": 28,
   "metadata": {},
   "outputs": [
    {
     "data": {
      "text/plain": [
       "count       4838\n",
       "unique         5\n",
       "top       diesel\n",
       "freq        4631\n",
       "Name: tipo_gasolina, dtype: object"
      ]
     },
     "execution_count": 28,
     "metadata": {},
     "output_type": "execute_result"
    }
   ],
   "source": [
    "df['tipo_gasolina'].describe()"
   ]
  },
  {
   "cell_type": "code",
   "execution_count": 29,
   "metadata": {},
   "outputs": [
    {
     "data": {
      "text/plain": [
       "diesel           0.956225\n",
       "petrol           0.039438\n",
       "hybrid_petrol    0.001652\n",
       "NaN              0.001032\n",
       "Diesel           0.001032\n",
       "electro          0.000619\n",
       "Name: tipo_gasolina, dtype: float64"
      ]
     },
     "execution_count": 29,
     "metadata": {},
     "output_type": "execute_result"
    }
   ],
   "source": [
    "df['tipo_gasolina'].value_counts(dropna=False,normalize=True) # asignaremos 'Others' a lo que este mas abajo del top 2 y OHE"
   ]
  },
  {
   "cell_type": "code",
   "execution_count": 30,
   "metadata": {},
   "outputs": [],
   "source": [
    "df['tipo_gasolina'] = set_Bot_Others(df, 'tipo_gasolina', 2) "
   ]
  },
  {
   "cell_type": "markdown",
   "metadata": {},
   "source": [
    "### Color"
   ]
  },
  {
   "cell_type": "code",
   "execution_count": 31,
   "metadata": {},
   "outputs": [
    {
     "data": {
      "text/plain": [
       "black     1632\n",
       "grey      1171\n",
       "blue       707\n",
       "white      537\n",
       "brown      341\n",
       "silver     327\n",
       "red         51\n",
       "beige       41\n",
       "green       18\n",
       "NaN         12\n",
       "orange       6\n",
       "Name: color, dtype: int64"
      ]
     },
     "execution_count": 31,
     "metadata": {},
     "output_type": "execute_result"
    }
   ],
   "source": [
    "df['color'].value_counts(dropna = False)"
   ]
  },
  {
   "cell_type": "code",
   "execution_count": 32,
   "metadata": {},
   "outputs": [],
   "source": [
    "df['color'].fillna('Others_null', inplace = True)"
   ]
  },
  {
   "cell_type": "code",
   "execution_count": 33,
   "metadata": {},
   "outputs": [
    {
     "name": "stderr",
     "output_type": "stream",
     "text": [
      "D:\\DS\\lib\\site-packages\\seaborn\\_decorators.py:36: FutureWarning: Pass the following variable as a keyword arg: x. From version 0.12, the only valid positional argument will be `data`, and passing other arguments without an explicit keyword will result in an error or misinterpretation.\n",
      "  warnings.warn(\n"
     ]
    },
    {
     "data": {
      "image/png": "[encoded data removed]",
      "text/plain": [
       "<Figure size 1080x576 with 2 Axes>"
      ]
     },
     "metadata": {
      "needs_background": "light"
     },
     "output_type": "display_data"
    }
   ],
   "source": [
    "plot_cat_values(df, 'color', TARGET_LN)"
   ]
  },
  {
   "cell_type": "code",
   "execution_count": 34,
   "metadata": {},
   "outputs": [],
   "source": [
    "# Podemos hacer OHE directo"
   ]
  },
  {
   "cell_type": "markdown",
   "metadata": {},
   "source": [
    "### Tipo_coche"
   ]
  },
  {
   "cell_type": "code",
   "execution_count": 35,
   "metadata": {},
   "outputs": [
    {
     "name": "stderr",
     "output_type": "stream",
     "text": [
      "D:\\DS\\lib\\site-packages\\seaborn\\_decorators.py:36: FutureWarning: Pass the following variable as a keyword arg: x. From version 0.12, the only valid positional argument will be `data`, and passing other arguments without an explicit keyword will result in an error or misinterpretation.\n",
      "  warnings.warn(\n"
     ]
    },
    {
     "data": {
      "image/png": "[encoded data removed]",
      "text/plain": [
       "<Figure size 1080x576 with 2 Axes>"
      ]
     },
     "metadata": {
      "needs_background": "light"
     },
     "output_type": "display_data"
    }
   ],
   "source": [
    "plot_cat_values(df, 'tipo_coche', TARGET_LN)"
   ]
  },
  {
   "cell_type": "code",
   "execution_count": 36,
   "metadata": {},
   "outputs": [
    {
     "data": {
      "text/html": [
       "<div>\n",
       "<style scoped>\n",
       "    .dataframe tbody tr th:only-of-type {\n",
       "        vertical-align: middle;\n",
       "    }\n",
       "\n",
       "    .dataframe tbody tr th {\n",
       "        vertical-align: top;\n",
       "    }\n",
       "\n",
       "    .dataframe thead th {\n",
       "        text-align: right;\n",
       "    }\n",
       "</style>\n",
       "<table border=\"1\" class=\"dataframe\">\n",
       "  <thead>\n",
       "    <tr style=\"text-align: right;\">\n",
       "      <th></th>\n",
       "      <th>n_rows</th>\n",
       "      <th>pct_rows</th>\n",
       "      <th>cars_bought</th>\n",
       "      <th>pct_cars_bought</th>\n",
       "      <th>mean_price_ln</th>\n",
       "    </tr>\n",
       "    <tr>\n",
       "      <th>tipo_coche</th>\n",
       "      <th></th>\n",
       "      <th></th>\n",
       "      <th></th>\n",
       "      <th></th>\n",
       "      <th></th>\n",
       "    </tr>\n",
       "  </thead>\n",
       "  <tbody>\n",
       "    <tr>\n",
       "      <th>convertible</th>\n",
       "      <td>47</td>\n",
       "      <td>0.009705</td>\n",
       "      <td>47</td>\n",
       "      <td>1.0</td>\n",
       "      <td>4.125692</td>\n",
       "    </tr>\n",
       "    <tr>\n",
       "      <th>coupe</th>\n",
       "      <td>104</td>\n",
       "      <td>0.021474</td>\n",
       "      <td>104</td>\n",
       "      <td>1.0</td>\n",
       "      <td>4.263652</td>\n",
       "    </tr>\n",
       "    <tr>\n",
       "      <th>estate</th>\n",
       "      <td>1604</td>\n",
       "      <td>0.331200</td>\n",
       "      <td>1604</td>\n",
       "      <td>1.0</td>\n",
       "      <td>4.063090</td>\n",
       "    </tr>\n",
       "    <tr>\n",
       "      <th>hatchback</th>\n",
       "      <td>699</td>\n",
       "      <td>0.144332</td>\n",
       "      <td>699</td>\n",
       "      <td>1.0</td>\n",
       "      <td>4.071932</td>\n",
       "    </tr>\n",
       "    <tr>\n",
       "      <th>sedan</th>\n",
       "      <td>1167</td>\n",
       "      <td>0.240966</td>\n",
       "      <td>1167</td>\n",
       "      <td>1.0</td>\n",
       "      <td>4.141627</td>\n",
       "    </tr>\n",
       "    <tr>\n",
       "      <th>subcompact</th>\n",
       "      <td>113</td>\n",
       "      <td>0.023333</td>\n",
       "      <td>113</td>\n",
       "      <td>1.0</td>\n",
       "      <td>3.935096</td>\n",
       "    </tr>\n",
       "    <tr>\n",
       "      <th>suv</th>\n",
       "      <td>1057</td>\n",
       "      <td>0.218253</td>\n",
       "      <td>1057</td>\n",
       "      <td>1.0</td>\n",
       "      <td>4.264904</td>\n",
       "    </tr>\n",
       "    <tr>\n",
       "      <th>van</th>\n",
       "      <td>43</td>\n",
       "      <td>0.008879</td>\n",
       "      <td>43</td>\n",
       "      <td>1.0</td>\n",
       "      <td>4.084499</td>\n",
       "    </tr>\n",
       "  </tbody>\n",
       "</table>\n",
       "</div>"
      ],
      "text/plain": [
       "             n_rows  pct_rows  cars_bought  pct_cars_bought  mean_price_ln\n",
       "tipo_coche                                                                \n",
       "convertible      47  0.009705           47              1.0       4.125692\n",
       "coupe           104  0.021474          104              1.0       4.263652\n",
       "estate         1604  0.331200         1604              1.0       4.063090\n",
       "hatchback       699  0.144332          699              1.0       4.071932\n",
       "sedan          1167  0.240966         1167              1.0       4.141627\n",
       "subcompact      113  0.023333          113              1.0       3.935096\n",
       "suv            1057  0.218253         1057              1.0       4.264904\n",
       "van              43  0.008879           43              1.0       4.084499"
      ]
     },
     "execution_count": 36,
     "metadata": {},
     "output_type": "execute_result"
    }
   ],
   "source": [
    "explore_cat_values(df, 'tipo_coche', TARGET_LN)"
   ]
  },
  {
   "cell_type": "code",
   "execution_count": 37,
   "metadata": {},
   "outputs": [
    {
     "data": {
      "text/plain": [
       "9"
      ]
     },
     "execution_count": 37,
     "metadata": {},
     "output_type": "execute_result"
    }
   ],
   "source": [
    "df['tipo_coche'].isnull().sum()"
   ]
  },
  {
   "cell_type": "code",
   "execution_count": 38,
   "metadata": {},
   "outputs": [
    {
     "data": {
      "text/plain": [
       "estate         1604\n",
       "sedan          1167\n",
       "suv            1057\n",
       "hatchback       699\n",
       "subcompact      113\n",
       "coupe           104\n",
       "convertible      47\n",
       "van              43\n",
       "NaN               9\n",
       "Name: tipo_coche, dtype: int64"
      ]
     },
     "execution_count": 38,
     "metadata": {},
     "output_type": "execute_result"
    }
   ],
   "source": [
    "df['tipo_coche'].value_counts(dropna = False)"
   ]
  },
  {
   "cell_type": "code",
   "execution_count": 39,
   "metadata": {},
   "outputs": [],
   "source": [
    "df['tipo_coche'].fillna('Others_null', inplace = True)"
   ]
  },
  {
   "cell_type": "markdown",
   "metadata": {},
   "source": [
    "## Dates"
   ]
  },
  {
   "cell_type": "markdown",
   "metadata": {},
   "source": [
    "### Fecha_registro"
   ]
  },
  {
   "cell_type": "code",
   "execution_count": 40,
   "metadata": {},
   "outputs": [
    {
     "data": {
      "text/plain": [
       "dtype('O')"
      ]
     },
     "execution_count": 40,
     "metadata": {},
     "output_type": "execute_result"
    }
   ],
   "source": [
    "df['fecha_registro'].dtype"
   ]
  },
  {
   "cell_type": "code",
   "execution_count": 41,
   "metadata": {},
   "outputs": [],
   "source": [
    "df['fecha_registro'] = pd.to_datetime(df['fecha_registro'])"
   ]
  },
  {
   "cell_type": "code",
   "execution_count": 42,
   "metadata": {},
   "outputs": [
    {
     "data": {
      "text/plain": [
       "1"
      ]
     },
     "execution_count": 42,
     "metadata": {},
     "output_type": "execute_result"
    }
   ],
   "source": [
    "df['fecha_registro'].isnull().sum()"
   ]
  },
  {
   "cell_type": "markdown",
   "metadata": {},
   "source": [
    "### Fecha_venta "
   ]
  },
  {
   "cell_type": "code",
   "execution_count": 43,
   "metadata": {},
   "outputs": [
    {
     "data": {
      "text/plain": [
       "dtype('O')"
      ]
     },
     "execution_count": 43,
     "metadata": {},
     "output_type": "execute_result"
    }
   ],
   "source": [
    "df['fecha_venta'].dtype"
   ]
  },
  {
   "cell_type": "code",
   "execution_count": 44,
   "metadata": {},
   "outputs": [],
   "source": [
    "df['fecha_venta'] = pd.to_datetime(df['fecha_venta'])"
   ]
  },
  {
   "cell_type": "markdown",
   "metadata": {},
   "source": [
    "### imputamos la diferencia entre registro y venta"
   ]
  },
  {
   "cell_type": "code",
   "execution_count": 45,
   "metadata": {},
   "outputs": [],
   "source": [
    "df['dias_hasta_venta'] = df['fecha_venta']-df['fecha_registro']"
   ]
  },
  {
   "cell_type": "markdown",
   "metadata": {},
   "source": [
    "### Miramos nulos de las fechas"
   ]
  },
  {
   "cell_type": "code",
   "execution_count": 46,
   "metadata": {},
   "outputs": [
    {
     "data": {
      "text/plain": [
       "1"
      ]
     },
     "execution_count": 46,
     "metadata": {},
     "output_type": "execute_result"
    }
   ],
   "source": [
    "df['fecha_registro'].isnull().sum()"
   ]
  },
  {
   "cell_type": "code",
   "execution_count": 47,
   "metadata": {},
   "outputs": [
    {
     "data": {
      "text/plain": [
       "1"
      ]
     },
     "execution_count": 47,
     "metadata": {},
     "output_type": "execute_result"
    }
   ],
   "source": [
    "df['fecha_venta'].isnull().sum()"
   ]
  },
  {
   "cell_type": "code",
   "execution_count": 48,
   "metadata": {},
   "outputs": [],
   "source": [
    "df = df.dropna(subset=['fecha_registro'])"
   ]
  },
  {
   "cell_type": "code",
   "execution_count": 49,
   "metadata": {},
   "outputs": [],
   "source": [
    "df = df.dropna(subset=['fecha_venta'])"
   ]
  },
  {
   "cell_type": "code",
   "execution_count": 50,
   "metadata": {},
   "outputs": [
    {
     "name": "stdout",
     "output_type": "stream",
     "text": [
      "<class 'pandas.core.frame.DataFrame'>\n",
      "Int64Index: 4841 entries, 0 to 4842\n",
      "Data columns (total 20 columns):\n",
      " #   Column                       Non-Null Count  Dtype          \n",
      "---  ------                       --------------  -----          \n",
      " 0   marca                        4841 non-null   object         \n",
      " 1   modelo                       4841 non-null   category       \n",
      " 2   km                           4839 non-null   float64        \n",
      " 3   potencia                     4840 non-null   float64        \n",
      " 4   fecha_registro               4841 non-null   datetime64[ns] \n",
      " 5   tipo_gasolina                4841 non-null   category       \n",
      " 6   color                        4841 non-null   object         \n",
      " 7   tipo_coche                   4841 non-null   object         \n",
      " 8   volante_regulable            4837 non-null   object         \n",
      " 9   aire_acondicionado           4839 non-null   object         \n",
      " 10  camara_trasera               4839 non-null   object         \n",
      " 11  asientos_traseros_plegables  4837 non-null   object         \n",
      " 12  elevalunas_electrico         4839 non-null   object         \n",
      " 13  bluetooth                    4837 non-null   object         \n",
      " 14  gps                          4841 non-null   bool           \n",
      " 15  alerta_lim_velocidad         4839 non-null   object         \n",
      " 16  precio                       4841 non-null   float64        \n",
      " 17  fecha_venta                  4841 non-null   datetime64[ns] \n",
      " 18  TARGET_LN                    4841 non-null   float64        \n",
      " 19  dias_hasta_venta             4841 non-null   timedelta64[ns]\n",
      "dtypes: bool(1), category(2), datetime64[ns](2), float64(4), object(10), timedelta64[ns](1)\n",
      "memory usage: 695.5+ KB\n"
     ]
    }
   ],
   "source": [
    "df.info()"
   ]
  },
  {
   "cell_type": "markdown",
   "metadata": {},
   "source": [
    "### creamos variables de las 2 fechas"
   ]
  },
  {
   "cell_type": "code",
   "execution_count": 51,
   "metadata": {},
   "outputs": [
    {
     "name": "stderr",
     "output_type": "stream",
     "text": [
      "C:\\Users\\JORDIG~1\\AppData\\Local\\Temp/ipykernel_1992/4270410957.py:6: FutureWarning: Series.dt.weekofyear and Series.dt.week have been deprecated.  Please use Series.dt.isocalendar().week instead.\n",
      "  df['week_registro'] = df['fecha_registro'].dt.week\n"
     ]
    }
   ],
   "source": [
    "df['year_registro'] = df['fecha_registro'].dt.year\n",
    "df['month_registro'] = df['fecha_registro'].dt.month\n",
    "df['day_registro'] = df['fecha_registro'].dt.day\n",
    "df['weekday_registro'] = df['fecha_registro'].dt.weekday\n",
    "df['quarter_registro'] = df['fecha_registro'].dt.quarter\n",
    "df['week_registro'] = df['fecha_registro'].dt.week\n",
    "df.drop('fecha_registro', axis = 1, inplace = True)"
   ]
  },
  {
   "cell_type": "code",
   "execution_count": 52,
   "metadata": {},
   "outputs": [
    {
     "name": "stderr",
     "output_type": "stream",
     "text": [
      "C:\\Users\\JORDIG~1\\AppData\\Local\\Temp/ipykernel_1992/729431141.py:6: FutureWarning: Series.dt.weekofyear and Series.dt.week have been deprecated.  Please use Series.dt.isocalendar().week instead.\n",
      "  df['week_venta'] = df['fecha_venta'].dt.week\n"
     ]
    }
   ],
   "source": [
    "df['year_venta'] = df['fecha_venta'].dt.year\n",
    "df['month_venta'] = df['fecha_venta'].dt.month\n",
    "df['day_venta'] = df['fecha_venta'].dt.day\n",
    "df['weekday_venta'] = df['fecha_venta'].dt.weekday\n",
    "df['quarter_venta'] = df['fecha_venta'].dt.quarter\n",
    "df['week_venta'] = df['fecha_venta'].dt.week\n",
    "df.drop('fecha_venta', axis = 1, inplace = True)"
   ]
  },
  {
   "cell_type": "markdown",
   "metadata": {},
   "source": [
    "## Numericas"
   ]
  },
  {
   "cell_type": "markdown",
   "metadata": {},
   "source": [
    "### km"
   ]
  },
  {
   "cell_type": "code",
   "execution_count": 53,
   "metadata": {},
   "outputs": [
    {
     "data": {
      "text/plain": [
       "count    4.839000e+03\n",
       "mean     1.409291e+05\n",
       "std      6.019215e+04\n",
       "min     -6.400000e+01\n",
       "25%      1.028700e+05\n",
       "50%      1.410680e+05\n",
       "75%      1.751955e+05\n",
       "max      1.000376e+06\n",
       "Name: km, dtype: float64"
      ]
     },
     "execution_count": 53,
     "metadata": {},
     "output_type": "execute_result"
    }
   ],
   "source": [
    "df['km'].describe()"
   ]
  },
  {
   "cell_type": "code",
   "execution_count": 54,
   "metadata": {},
   "outputs": [
    {
     "data": {
      "text/html": [
       "<div>\n",
       "<style scoped>\n",
       "    .dataframe tbody tr th:only-of-type {\n",
       "        vertical-align: middle;\n",
       "    }\n",
       "\n",
       "    .dataframe tbody tr th {\n",
       "        vertical-align: top;\n",
       "    }\n",
       "\n",
       "    .dataframe thead th {\n",
       "        text-align: right;\n",
       "    }\n",
       "</style>\n",
       "<table border=\"1\" class=\"dataframe\">\n",
       "  <thead>\n",
       "    <tr style=\"text-align: right;\">\n",
       "      <th></th>\n",
       "      <th>marca</th>\n",
       "      <th>modelo</th>\n",
       "      <th>km</th>\n",
       "      <th>potencia</th>\n",
       "      <th>tipo_gasolina</th>\n",
       "      <th>color</th>\n",
       "      <th>tipo_coche</th>\n",
       "      <th>volante_regulable</th>\n",
       "      <th>aire_acondicionado</th>\n",
       "      <th>camara_trasera</th>\n",
       "      <th>...</th>\n",
       "      <th>day_registro</th>\n",
       "      <th>weekday_registro</th>\n",
       "      <th>quarter_registro</th>\n",
       "      <th>week_registro</th>\n",
       "      <th>year_venta</th>\n",
       "      <th>month_venta</th>\n",
       "      <th>day_venta</th>\n",
       "      <th>weekday_venta</th>\n",
       "      <th>quarter_venta</th>\n",
       "      <th>week_venta</th>\n",
       "    </tr>\n",
       "  </thead>\n",
       "  <tbody>\n",
       "    <tr>\n",
       "      <th>2938</th>\n",
       "      <td>BMW</td>\n",
       "      <td>Others</td>\n",
       "      <td>-64.0</td>\n",
       "      <td>230.0</td>\n",
       "      <td>diesel</td>\n",
       "      <td>black</td>\n",
       "      <td>sedan</td>\n",
       "      <td>True</td>\n",
       "      <td>True</td>\n",
       "      <td>False</td>\n",
       "      <td>...</td>\n",
       "      <td>1</td>\n",
       "      <td>2</td>\n",
       "      <td>1</td>\n",
       "      <td>9</td>\n",
       "      <td>2018</td>\n",
       "      <td>4</td>\n",
       "      <td>1</td>\n",
       "      <td>6</td>\n",
       "      <td>2</td>\n",
       "      <td>13</td>\n",
       "    </tr>\n",
       "  </tbody>\n",
       "</table>\n",
       "<p>1 rows × 30 columns</p>\n",
       "</div>"
      ],
      "text/plain": [
       "     marca  modelo    km  potencia tipo_gasolina  color tipo_coche  \\\n",
       "2938   BMW  Others -64.0     230.0        diesel  black      sedan   \n",
       "\n",
       "     volante_regulable aire_acondicionado camara_trasera  ... day_registro  \\\n",
       "2938              True               True          False  ...            1   \n",
       "\n",
       "     weekday_registro quarter_registro  week_registro year_venta  month_venta  \\\n",
       "2938                2                1              9       2018            4   \n",
       "\n",
       "      day_venta weekday_venta  quarter_venta  week_venta  \n",
       "2938          1             6              2          13  \n",
       "\n",
       "[1 rows x 30 columns]"
      ]
     },
     "execution_count": 54,
     "metadata": {},
     "output_type": "execute_result"
    }
   ],
   "source": [
    "df[df['km']<0]"
   ]
  },
  {
   "cell_type": "code",
   "execution_count": 55,
   "metadata": {},
   "outputs": [
    {
     "data": {
      "text/plain": [
       "<AxesSubplot:xlabel='modelo', ylabel='km'>"
      ]
     },
     "execution_count": 55,
     "metadata": {},
     "output_type": "execute_result"
    },
    {
     "data": {
      "image/png": "[encoded data removed]",
      "text/plain": [
       "<Figure size 432x288 with 1 Axes>"
      ]
     },
     "metadata": {
      "needs_background": "light"
     },
     "output_type": "display_data"
    }
   ],
   "source": [
    "sns.barplot(data = df, x = 'modelo', y = 'km')"
   ]
  },
  {
   "cell_type": "code",
   "execution_count": 56,
   "metadata": {},
   "outputs": [
    {
     "data": {
      "text/plain": [
       "140958.27284001652"
      ]
     },
     "execution_count": 56,
     "metadata": {},
     "output_type": "execute_result"
    }
   ],
   "source": [
    "df[df['km']>0]['km'].mean()"
   ]
  },
  {
   "cell_type": "code",
   "execution_count": 57,
   "metadata": {},
   "outputs": [],
   "source": [
    "df['km'] = np.where(df['km']<0,df[df['km']>0]['km'].mean(),df['km'])"
   ]
  },
  {
   "cell_type": "code",
   "execution_count": 58,
   "metadata": {},
   "outputs": [
    {
     "data": {
      "text/plain": [
       "2"
      ]
     },
     "execution_count": 58,
     "metadata": {},
     "output_type": "execute_result"
    }
   ],
   "source": [
    "df['km'].isnull().sum()"
   ]
  },
  {
   "cell_type": "code",
   "execution_count": 59,
   "metadata": {},
   "outputs": [],
   "source": [
    "df['km'].fillna(df[df['km']>0]['km'].mean(), inplace = True)"
   ]
  },
  {
   "cell_type": "markdown",
   "metadata": {},
   "source": [
    "### Potencia"
   ]
  },
  {
   "cell_type": "code",
   "execution_count": 60,
   "metadata": {},
   "outputs": [
    {
     "data": {
      "text/plain": [
       "count    4840.000000\n",
       "mean      128.989669\n",
       "std        39.000457\n",
       "min         0.000000\n",
       "25%       100.000000\n",
       "50%       120.000000\n",
       "75%       135.000000\n",
       "max       423.000000\n",
       "Name: potencia, dtype: float64"
      ]
     },
     "execution_count": 60,
     "metadata": {},
     "output_type": "execute_result"
    }
   ],
   "source": [
    "df['potencia'].describe()"
   ]
  },
  {
   "cell_type": "code",
   "execution_count": 61,
   "metadata": {},
   "outputs": [
    {
     "data": {
      "text/plain": [
       "1"
      ]
     },
     "execution_count": 61,
     "metadata": {},
     "output_type": "execute_result"
    }
   ],
   "source": [
    "df['potencia'].isnull().sum()"
   ]
  },
  {
   "cell_type": "code",
   "execution_count": 62,
   "metadata": {},
   "outputs": [],
   "source": [
    "df['potencia'].fillna(df['potencia'].mean(), inplace = True)"
   ]
  },
  {
   "cell_type": "markdown",
   "metadata": {},
   "source": [
    "## Boolean"
   ]
  },
  {
   "cell_type": "markdown",
   "metadata": {},
   "source": [
    "### volante_regulable"
   ]
  },
  {
   "cell_type": "code",
   "execution_count": 63,
   "metadata": {},
   "outputs": [
    {
     "data": {
      "text/plain": [
       "True     2660\n",
       "False    2177\n",
       "NaN         4\n",
       "Name: volante_regulable, dtype: int64"
      ]
     },
     "execution_count": 63,
     "metadata": {},
     "output_type": "execute_result"
    }
   ],
   "source": [
    "df['volante_regulable'].value_counts(dropna=False)"
   ]
  },
  {
   "cell_type": "code",
   "execution_count": 64,
   "metadata": {},
   "outputs": [],
   "source": [
    "df['volante_regulable'].fillna(False, inplace = True)"
   ]
  },
  {
   "cell_type": "markdown",
   "metadata": {},
   "source": [
    "### aire_acondicionado"
   ]
  },
  {
   "cell_type": "code",
   "execution_count": 65,
   "metadata": {},
   "outputs": [
    {
     "data": {
      "text/plain": [
       "True     3837\n",
       "False    1002\n",
       "NaN         2\n",
       "Name: aire_acondicionado, dtype: int64"
      ]
     },
     "execution_count": 65,
     "metadata": {},
     "output_type": "execute_result"
    }
   ],
   "source": [
    "df['aire_acondicionado'].value_counts(dropna=False)"
   ]
  },
  {
   "cell_type": "code",
   "execution_count": 66,
   "metadata": {},
   "outputs": [],
   "source": [
    "df['aire_acondicionado'].fillna(False, inplace = True)"
   ]
  },
  {
   "cell_type": "markdown",
   "metadata": {},
   "source": [
    "### camara_trasera"
   ]
  },
  {
   "cell_type": "code",
   "execution_count": 67,
   "metadata": {},
   "outputs": [
    {
     "data": {
      "text/plain": [
       "<AxesSubplot:xlabel='camara_trasera', ylabel='count'>"
      ]
     },
     "execution_count": 67,
     "metadata": {},
     "output_type": "execute_result"
    },
    {
     "data": {
      "image/png": "[encoded data removed]",
      "text/plain": [
       "<Figure size 432x288 with 1 Axes>"
      ]
     },
     "metadata": {
      "needs_background": "light"
     },
     "output_type": "display_data"
    }
   ],
   "source": [
    "sns.countplot(data = df, x = 'camara_trasera')"
   ]
  },
  {
   "cell_type": "code",
   "execution_count": 68,
   "metadata": {},
   "outputs": [
    {
     "data": {
      "text/plain": [
       "2"
      ]
     },
     "execution_count": 68,
     "metadata": {},
     "output_type": "execute_result"
    }
   ],
   "source": [
    "df['camara_trasera'].isnull().sum()"
   ]
  },
  {
   "cell_type": "code",
   "execution_count": 69,
   "metadata": {},
   "outputs": [],
   "source": [
    "df['camara_trasera'].fillna(True, inplace = True)"
   ]
  },
  {
   "cell_type": "markdown",
   "metadata": {},
   "source": [
    "### asientos_traseros_plegables"
   ]
  },
  {
   "cell_type": "code",
   "execution_count": 70,
   "metadata": {},
   "outputs": [
    {
     "data": {
      "text/plain": [
       "False    3875\n",
       "True      962\n",
       "NaN         4\n",
       "Name: asientos_traseros_plegables, dtype: int64"
      ]
     },
     "execution_count": 70,
     "metadata": {},
     "output_type": "execute_result"
    }
   ],
   "source": [
    "df['asientos_traseros_plegables'].value_counts(dropna = False)"
   ]
  },
  {
   "cell_type": "code",
   "execution_count": 71,
   "metadata": {},
   "outputs": [],
   "source": [
    "df['asientos_traseros_plegables'].fillna(True, inplace = True)"
   ]
  },
  {
   "cell_type": "markdown",
   "metadata": {},
   "source": [
    "### elevalunas_electrico"
   ]
  },
  {
   "cell_type": "code",
   "execution_count": 72,
   "metadata": {},
   "outputs": [
    {
     "data": {
      "text/plain": [
       "False    2610\n",
       "True     2229\n",
       "NaN         2\n",
       "Name: elevalunas_electrico, dtype: int64"
      ]
     },
     "execution_count": 72,
     "metadata": {},
     "output_type": "execute_result"
    }
   ],
   "source": [
    "df['elevalunas_electrico'].value_counts(dropna = False)"
   ]
  },
  {
   "cell_type": "code",
   "execution_count": 73,
   "metadata": {},
   "outputs": [],
   "source": [
    "df['elevalunas_electrico'].fillna(True, inplace = True)"
   ]
  },
  {
   "cell_type": "markdown",
   "metadata": {},
   "source": [
    "### bluetooth"
   ]
  },
  {
   "cell_type": "code",
   "execution_count": 74,
   "metadata": {},
   "outputs": [
    {
     "data": {
      "text/plain": [
       "False    3668\n",
       "True     1169\n",
       "NaN         4\n",
       "Name: bluetooth, dtype: int64"
      ]
     },
     "execution_count": 74,
     "metadata": {},
     "output_type": "execute_result"
    }
   ],
   "source": [
    "df['bluetooth'].value_counts(dropna = False)"
   ]
  },
  {
   "cell_type": "code",
   "execution_count": 75,
   "metadata": {},
   "outputs": [],
   "source": [
    "df['bluetooth'].fillna(True, inplace = True)"
   ]
  },
  {
   "cell_type": "markdown",
   "metadata": {},
   "source": [
    "### gps"
   ]
  },
  {
   "cell_type": "code",
   "execution_count": 76,
   "metadata": {},
   "outputs": [
    {
     "data": {
      "text/plain": [
       "True     4512\n",
       "False     329\n",
       "Name: gps, dtype: int64"
      ]
     },
     "execution_count": 76,
     "metadata": {},
     "output_type": "execute_result"
    }
   ],
   "source": [
    "df['gps'].value_counts(dropna=False)"
   ]
  },
  {
   "cell_type": "markdown",
   "metadata": {},
   "source": [
    "### alerta_lim_velocidad"
   ]
  },
  {
   "cell_type": "code",
   "execution_count": 77,
   "metadata": {},
   "outputs": [
    {
     "data": {
      "text/plain": [
       "True     2617\n",
       "False    2222\n",
       "NaN         2\n",
       "Name: alerta_lim_velocidad, dtype: int64"
      ]
     },
     "execution_count": 77,
     "metadata": {},
     "output_type": "execute_result"
    }
   ],
   "source": [
    "df['alerta_lim_velocidad'].value_counts(dropna = False)"
   ]
  },
  {
   "cell_type": "code",
   "execution_count": 78,
   "metadata": {},
   "outputs": [],
   "source": [
    "df['alerta_lim_velocidad'].fillna(False, inplace = True)"
   ]
  },
  {
   "cell_type": "markdown",
   "metadata": {},
   "source": [
    "# Cambios de atributos"
   ]
  },
  {
   "cell_type": "code",
   "execution_count": 79,
   "metadata": {},
   "outputs": [],
   "source": [
    "df['dias_hasta_venta'] = df['dias_hasta_venta'].dt.days"
   ]
  },
  {
   "cell_type": "markdown",
   "metadata": {},
   "source": [
    "# DataFrame Final"
   ]
  },
  {
   "cell_type": "code",
   "execution_count": 80,
   "metadata": {},
   "outputs": [
    {
     "data": {
      "text/html": [
       "<div>\n",
       "<style scoped>\n",
       "    .dataframe tbody tr th:only-of-type {\n",
       "        vertical-align: middle;\n",
       "    }\n",
       "\n",
       "    .dataframe tbody tr th {\n",
       "        vertical-align: top;\n",
       "    }\n",
       "\n",
       "    .dataframe thead th {\n",
       "        text-align: right;\n",
       "    }\n",
       "</style>\n",
       "<table border=\"1\" class=\"dataframe\">\n",
       "  <thead>\n",
       "    <tr style=\"text-align: right;\">\n",
       "      <th></th>\n",
       "      <th>count</th>\n",
       "      <th>mean</th>\n",
       "      <th>std</th>\n",
       "      <th>min</th>\n",
       "      <th>25%</th>\n",
       "      <th>50%</th>\n",
       "      <th>75%</th>\n",
       "      <th>max</th>\n",
       "    </tr>\n",
       "  </thead>\n",
       "  <tbody>\n",
       "    <tr>\n",
       "      <th>km</th>\n",
       "      <td>4841.0</td>\n",
       "      <td>140958.272840</td>\n",
       "      <td>60145.571814</td>\n",
       "      <td>476.0</td>\n",
       "      <td>102943.000000</td>\n",
       "      <td>141063.000000</td>\n",
       "      <td>175174.000000</td>\n",
       "      <td>1.000376e+06</td>\n",
       "    </tr>\n",
       "    <tr>\n",
       "      <th>potencia</th>\n",
       "      <td>4841.0</td>\n",
       "      <td>128.989669</td>\n",
       "      <td>38.996428</td>\n",
       "      <td>0.0</td>\n",
       "      <td>100.000000</td>\n",
       "      <td>120.000000</td>\n",
       "      <td>135.000000</td>\n",
       "      <td>4.230000e+02</td>\n",
       "    </tr>\n",
       "    <tr>\n",
       "      <th>precio</th>\n",
       "      <td>4841.0</td>\n",
       "      <td>15835.342186</td>\n",
       "      <td>9217.029350</td>\n",
       "      <td>100.0</td>\n",
       "      <td>10900.000000</td>\n",
       "      <td>14200.000000</td>\n",
       "      <td>18600.000000</td>\n",
       "      <td>1.785000e+05</td>\n",
       "    </tr>\n",
       "    <tr>\n",
       "      <th>TARGET_LN</th>\n",
       "      <td>4841.0</td>\n",
       "      <td>4.129049</td>\n",
       "      <td>0.281761</td>\n",
       "      <td>2.0</td>\n",
       "      <td>4.037426</td>\n",
       "      <td>4.152288</td>\n",
       "      <td>4.269513</td>\n",
       "      <td>5.251638e+00</td>\n",
       "    </tr>\n",
       "    <tr>\n",
       "      <th>dias_hasta_venta</th>\n",
       "      <td>4841.0</td>\n",
       "      <td>1980.313365</td>\n",
       "      <td>932.297275</td>\n",
       "      <td>-2009.0</td>\n",
       "      <td>1489.000000</td>\n",
       "      <td>1765.000000</td>\n",
       "      <td>2130.000000</td>\n",
       "      <td>1.025800e+04</td>\n",
       "    </tr>\n",
       "    <tr>\n",
       "      <th>year_registro</th>\n",
       "      <td>4841.0</td>\n",
       "      <td>2012.468911</td>\n",
       "      <td>2.525227</td>\n",
       "      <td>1990.0</td>\n",
       "      <td>2012.000000</td>\n",
       "      <td>2013.000000</td>\n",
       "      <td>2014.000000</td>\n",
       "      <td>2.017000e+03</td>\n",
       "    </tr>\n",
       "    <tr>\n",
       "      <th>month_registro</th>\n",
       "      <td>4841.0</td>\n",
       "      <td>6.131791</td>\n",
       "      <td>3.315501</td>\n",
       "      <td>1.0</td>\n",
       "      <td>3.000000</td>\n",
       "      <td>6.000000</td>\n",
       "      <td>9.000000</td>\n",
       "      <td>1.200000e+01</td>\n",
       "    </tr>\n",
       "    <tr>\n",
       "      <th>day_registro</th>\n",
       "      <td>4841.0</td>\n",
       "      <td>1.000000</td>\n",
       "      <td>0.000000</td>\n",
       "      <td>1.0</td>\n",
       "      <td>1.000000</td>\n",
       "      <td>1.000000</td>\n",
       "      <td>1.000000</td>\n",
       "      <td>1.000000e+00</td>\n",
       "    </tr>\n",
       "    <tr>\n",
       "      <th>weekday_registro</th>\n",
       "      <td>4841.0</td>\n",
       "      <td>3.007850</td>\n",
       "      <td>2.023810</td>\n",
       "      <td>0.0</td>\n",
       "      <td>1.000000</td>\n",
       "      <td>3.000000</td>\n",
       "      <td>5.000000</td>\n",
       "      <td>6.000000e+00</td>\n",
       "    </tr>\n",
       "    <tr>\n",
       "      <th>quarter_registro</th>\n",
       "      <td>4841.0</td>\n",
       "      <td>2.393720</td>\n",
       "      <td>1.097477</td>\n",
       "      <td>1.0</td>\n",
       "      <td>1.000000</td>\n",
       "      <td>2.000000</td>\n",
       "      <td>3.000000</td>\n",
       "      <td>4.000000e+00</td>\n",
       "    </tr>\n",
       "    <tr>\n",
       "      <th>week_registro</th>\n",
       "      <td>4841.0</td>\n",
       "      <td>24.013427</td>\n",
       "      <td>14.611866</td>\n",
       "      <td>1.0</td>\n",
       "      <td>9.000000</td>\n",
       "      <td>22.000000</td>\n",
       "      <td>36.000000</td>\n",
       "      <td>5.300000e+01</td>\n",
       "    </tr>\n",
       "    <tr>\n",
       "      <th>year_venta</th>\n",
       "      <td>4841.0</td>\n",
       "      <td>2017.992150</td>\n",
       "      <td>0.274879</td>\n",
       "      <td>2007.0</td>\n",
       "      <td>2018.000000</td>\n",
       "      <td>2018.000000</td>\n",
       "      <td>2018.000000</td>\n",
       "      <td>2.018000e+03</td>\n",
       "    </tr>\n",
       "    <tr>\n",
       "      <th>month_venta</th>\n",
       "      <td>4841.0</td>\n",
       "      <td>4.926875</td>\n",
       "      <td>2.157828</td>\n",
       "      <td>1.0</td>\n",
       "      <td>3.000000</td>\n",
       "      <td>5.000000</td>\n",
       "      <td>7.000000</td>\n",
       "      <td>9.000000e+00</td>\n",
       "    </tr>\n",
       "    <tr>\n",
       "      <th>day_venta</th>\n",
       "      <td>4841.0</td>\n",
       "      <td>1.000000</td>\n",
       "      <td>0.000000</td>\n",
       "      <td>1.0</td>\n",
       "      <td>1.000000</td>\n",
       "      <td>1.000000</td>\n",
       "      <td>1.000000</td>\n",
       "      <td>1.000000e+00</td>\n",
       "    </tr>\n",
       "    <tr>\n",
       "      <th>weekday_venta</th>\n",
       "      <td>4841.0</td>\n",
       "      <td>3.405701</td>\n",
       "      <td>1.895798</td>\n",
       "      <td>0.0</td>\n",
       "      <td>2.000000</td>\n",
       "      <td>3.000000</td>\n",
       "      <td>6.000000</td>\n",
       "      <td>6.000000e+00</td>\n",
       "    </tr>\n",
       "    <tr>\n",
       "      <th>quarter_venta</th>\n",
       "      <td>4841.0</td>\n",
       "      <td>1.966949</td>\n",
       "      <td>0.751130</td>\n",
       "      <td>1.0</td>\n",
       "      <td>1.000000</td>\n",
       "      <td>2.000000</td>\n",
       "      <td>3.000000</td>\n",
       "      <td>3.000000e+00</td>\n",
       "    </tr>\n",
       "    <tr>\n",
       "      <th>week_venta</th>\n",
       "      <td>4841.0</td>\n",
       "      <td>17.420574</td>\n",
       "      <td>9.294468</td>\n",
       "      <td>1.0</td>\n",
       "      <td>9.000000</td>\n",
       "      <td>18.000000</td>\n",
       "      <td>26.000000</td>\n",
       "      <td>3.500000e+01</td>\n",
       "    </tr>\n",
       "  </tbody>\n",
       "</table>\n",
       "</div>"
      ],
      "text/plain": [
       "                   count           mean           std     min            25%  \\\n",
       "km                4841.0  140958.272840  60145.571814   476.0  102943.000000   \n",
       "potencia          4841.0     128.989669     38.996428     0.0     100.000000   \n",
       "precio            4841.0   15835.342186   9217.029350   100.0   10900.000000   \n",
       "TARGET_LN         4841.0       4.129049      0.281761     2.0       4.037426   \n",
       "dias_hasta_venta  4841.0    1980.313365    932.297275 -2009.0    1489.000000   \n",
       "year_registro     4841.0    2012.468911      2.525227  1990.0    2012.000000   \n",
       "month_registro    4841.0       6.131791      3.315501     1.0       3.000000   \n",
       "day_registro      4841.0       1.000000      0.000000     1.0       1.000000   \n",
       "weekday_registro  4841.0       3.007850      2.023810     0.0       1.000000   \n",
       "quarter_registro  4841.0       2.393720      1.097477     1.0       1.000000   \n",
       "week_registro     4841.0      24.013427     14.611866     1.0       9.000000   \n",
       "year_venta        4841.0    2017.992150      0.274879  2007.0    2018.000000   \n",
       "month_venta       4841.0       4.926875      2.157828     1.0       3.000000   \n",
       "day_venta         4841.0       1.000000      0.000000     1.0       1.000000   \n",
       "weekday_venta     4841.0       3.405701      1.895798     0.0       2.000000   \n",
       "quarter_venta     4841.0       1.966949      0.751130     1.0       1.000000   \n",
       "week_venta        4841.0      17.420574      9.294468     1.0       9.000000   \n",
       "\n",
       "                            50%            75%           max  \n",
       "km                141063.000000  175174.000000  1.000376e+06  \n",
       "potencia             120.000000     135.000000  4.230000e+02  \n",
       "precio             14200.000000   18600.000000  1.785000e+05  \n",
       "TARGET_LN              4.152288       4.269513  5.251638e+00  \n",
       "dias_hasta_venta    1765.000000    2130.000000  1.025800e+04  \n",
       "year_registro       2013.000000    2014.000000  2.017000e+03  \n",
       "month_registro         6.000000       9.000000  1.200000e+01  \n",
       "day_registro           1.000000       1.000000  1.000000e+00  \n",
       "weekday_registro       3.000000       5.000000  6.000000e+00  \n",
       "quarter_registro       2.000000       3.000000  4.000000e+00  \n",
       "week_registro         22.000000      36.000000  5.300000e+01  \n",
       "year_venta          2018.000000    2018.000000  2.018000e+03  \n",
       "month_venta            5.000000       7.000000  9.000000e+00  \n",
       "day_venta              1.000000       1.000000  1.000000e+00  \n",
       "weekday_venta          3.000000       6.000000  6.000000e+00  \n",
       "quarter_venta          2.000000       3.000000  3.000000e+00  \n",
       "week_venta            18.000000      26.000000  3.500000e+01  "
      ]
     },
     "execution_count": 80,
     "metadata": {},
     "output_type": "execute_result"
    }
   ],
   "source": [
    "df.describe(include = np.number).T"
   ]
  },
  {
   "cell_type": "code",
   "execution_count": 81,
   "metadata": {},
   "outputs": [
    {
     "data": {
      "text/html": [
       "<div>\n",
       "<style scoped>\n",
       "    .dataframe tbody tr th:only-of-type {\n",
       "        vertical-align: middle;\n",
       "    }\n",
       "\n",
       "    .dataframe tbody tr th {\n",
       "        vertical-align: top;\n",
       "    }\n",
       "\n",
       "    .dataframe thead th {\n",
       "        text-align: right;\n",
       "    }\n",
       "</style>\n",
       "<table border=\"1\" class=\"dataframe\">\n",
       "  <thead>\n",
       "    <tr style=\"text-align: right;\">\n",
       "      <th></th>\n",
       "      <th>count</th>\n",
       "      <th>unique</th>\n",
       "      <th>top</th>\n",
       "      <th>freq</th>\n",
       "    </tr>\n",
       "  </thead>\n",
       "  <tbody>\n",
       "    <tr>\n",
       "      <th>marca</th>\n",
       "      <td>4841</td>\n",
       "      <td>1</td>\n",
       "      <td>BMW</td>\n",
       "      <td>4841</td>\n",
       "    </tr>\n",
       "    <tr>\n",
       "      <th>modelo</th>\n",
       "      <td>4841</td>\n",
       "      <td>12</td>\n",
       "      <td>Others</td>\n",
       "      <td>870</td>\n",
       "    </tr>\n",
       "    <tr>\n",
       "      <th>tipo_gasolina</th>\n",
       "      <td>4841</td>\n",
       "      <td>3</td>\n",
       "      <td>diesel</td>\n",
       "      <td>4629</td>\n",
       "    </tr>\n",
       "    <tr>\n",
       "      <th>color</th>\n",
       "      <td>4841</td>\n",
       "      <td>11</td>\n",
       "      <td>black</td>\n",
       "      <td>1631</td>\n",
       "    </tr>\n",
       "    <tr>\n",
       "      <th>tipo_coche</th>\n",
       "      <td>4841</td>\n",
       "      <td>9</td>\n",
       "      <td>estate</td>\n",
       "      <td>1602</td>\n",
       "    </tr>\n",
       "    <tr>\n",
       "      <th>volante_regulable</th>\n",
       "      <td>4841</td>\n",
       "      <td>2</td>\n",
       "      <td>True</td>\n",
       "      <td>2660</td>\n",
       "    </tr>\n",
       "    <tr>\n",
       "      <th>aire_acondicionado</th>\n",
       "      <td>4841</td>\n",
       "      <td>2</td>\n",
       "      <td>True</td>\n",
       "      <td>3837</td>\n",
       "    </tr>\n",
       "    <tr>\n",
       "      <th>camara_trasera</th>\n",
       "      <td>4841</td>\n",
       "      <td>2</td>\n",
       "      <td>False</td>\n",
       "      <td>3863</td>\n",
       "    </tr>\n",
       "    <tr>\n",
       "      <th>asientos_traseros_plegables</th>\n",
       "      <td>4841</td>\n",
       "      <td>2</td>\n",
       "      <td>False</td>\n",
       "      <td>3875</td>\n",
       "    </tr>\n",
       "    <tr>\n",
       "      <th>elevalunas_electrico</th>\n",
       "      <td>4841</td>\n",
       "      <td>2</td>\n",
       "      <td>False</td>\n",
       "      <td>2610</td>\n",
       "    </tr>\n",
       "    <tr>\n",
       "      <th>bluetooth</th>\n",
       "      <td>4841</td>\n",
       "      <td>2</td>\n",
       "      <td>False</td>\n",
       "      <td>3668</td>\n",
       "    </tr>\n",
       "    <tr>\n",
       "      <th>gps</th>\n",
       "      <td>4841</td>\n",
       "      <td>2</td>\n",
       "      <td>True</td>\n",
       "      <td>4512</td>\n",
       "    </tr>\n",
       "    <tr>\n",
       "      <th>alerta_lim_velocidad</th>\n",
       "      <td>4841</td>\n",
       "      <td>2</td>\n",
       "      <td>True</td>\n",
       "      <td>2617</td>\n",
       "    </tr>\n",
       "  </tbody>\n",
       "</table>\n",
       "</div>"
      ],
      "text/plain": [
       "                            count unique     top  freq\n",
       "marca                        4841      1     BMW  4841\n",
       "modelo                       4841     12  Others   870\n",
       "tipo_gasolina                4841      3  diesel  4629\n",
       "color                        4841     11   black  1631\n",
       "tipo_coche                   4841      9  estate  1602\n",
       "volante_regulable            4841      2    True  2660\n",
       "aire_acondicionado           4841      2    True  3837\n",
       "camara_trasera               4841      2   False  3863\n",
       "asientos_traseros_plegables  4841      2   False  3875\n",
       "elevalunas_electrico         4841      2   False  2610\n",
       "bluetooth                    4841      2   False  3668\n",
       "gps                          4841      2    True  4512\n",
       "alerta_lim_velocidad         4841      2    True  2617"
      ]
     },
     "execution_count": 81,
     "metadata": {},
     "output_type": "execute_result"
    }
   ],
   "source": [
    "df.describe(exclude = np.number).T"
   ]
  },
  {
   "cell_type": "code",
   "execution_count": 83,
   "metadata": {},
   "outputs": [
    {
     "name": "stdout",
     "output_type": "stream",
     "text": [
      "<class 'pandas.core.frame.DataFrame'>\n",
      "Int64Index: 4841 entries, 0 to 4842\n",
      "Data columns (total 30 columns):\n",
      " #   Column                       Non-Null Count  Dtype   \n",
      "---  ------                       --------------  -----   \n",
      " 0   marca                        4841 non-null   object  \n",
      " 1   modelo                       4841 non-null   category\n",
      " 2   km                           4841 non-null   float64 \n",
      " 3   potencia                     4841 non-null   float64 \n",
      " 4   tipo_gasolina                4841 non-null   category\n",
      " 5   color                        4841 non-null   object  \n",
      " 6   tipo_coche                   4841 non-null   object  \n",
      " 7   volante_regulable            4841 non-null   bool    \n",
      " 8   aire_acondicionado           4841 non-null   bool    \n",
      " 9   camara_trasera               4841 non-null   bool    \n",
      " 10  asientos_traseros_plegables  4841 non-null   bool    \n",
      " 11  elevalunas_electrico         4841 non-null   bool    \n",
      " 12  bluetooth                    4841 non-null   bool    \n",
      " 13  gps                          4841 non-null   bool    \n",
      " 14  alerta_lim_velocidad         4841 non-null   bool    \n",
      " 15  precio                       4841 non-null   float64 \n",
      " 16  TARGET_LN                    4841 non-null   float64 \n",
      " 17  dias_hasta_venta             4841 non-null   int64   \n",
      " 18  year_registro                4841 non-null   int64   \n",
      " 19  month_registro               4841 non-null   int64   \n",
      " 20  day_registro                 4841 non-null   int64   \n",
      " 21  weekday_registro             4841 non-null   int64   \n",
      " 22  quarter_registro             4841 non-null   int64   \n",
      " 23  week_registro                4841 non-null   int64   \n",
      " 24  year_venta                   4841 non-null   int64   \n",
      " 25  month_venta                  4841 non-null   int64   \n",
      " 26  day_venta                    4841 non-null   int64   \n",
      " 27  weekday_venta                4841 non-null   int64   \n",
      " 28  quarter_venta                4841 non-null   int64   \n",
      " 29  week_venta                   4841 non-null   int64   \n",
      "dtypes: bool(8), category(2), float64(4), int64(13), object(3)\n",
      "memory usage: 971.1+ KB\n"
     ]
    }
   ],
   "source": [
    "df.info()"
   ]
  },
  {
   "cell_type": "markdown",
   "metadata": {},
   "source": [
    "### Transformamos los booleans"
   ]
  },
  {
   "cell_type": "code",
   "execution_count": 94,
   "metadata": {},
   "outputs": [],
   "source": [
    "bool_columns = df.select_dtypes(include=bool).columns\n",
    "category_columns = df.select_dtypes(include='category').columns"
   ]
  },
  {
   "cell_type": "code",
   "execution_count": 97,
   "metadata": {},
   "outputs": [],
   "source": [
    "for col in bool_columns:\n",
    "    df[col] = list(map(int, df[col]))"
   ]
  },
  {
   "cell_type": "markdown",
   "metadata": {},
   "source": [
    "### Transformamos las category en object"
   ]
  },
  {
   "cell_type": "code",
   "execution_count": 99,
   "metadata": {},
   "outputs": [],
   "source": [
    "for col in category_columns:\n",
    "    df[col] = df[col].astype(object)"
   ]
  },
  {
   "cell_type": "code",
   "execution_count": 100,
   "metadata": {},
   "outputs": [
    {
     "name": "stdout",
     "output_type": "stream",
     "text": [
      "<class 'pandas.core.frame.DataFrame'>\n",
      "Int64Index: 4841 entries, 0 to 4842\n",
      "Data columns (total 30 columns):\n",
      " #   Column                       Non-Null Count  Dtype  \n",
      "---  ------                       --------------  -----  \n",
      " 0   marca                        4841 non-null   object \n",
      " 1   modelo                       4841 non-null   object \n",
      " 2   km                           4841 non-null   float64\n",
      " 3   potencia                     4841 non-null   float64\n",
      " 4   tipo_gasolina                4841 non-null   object \n",
      " 5   color                        4841 non-null   object \n",
      " 6   tipo_coche                   4841 non-null   object \n",
      " 7   volante_regulable            4841 non-null   int64  \n",
      " 8   aire_acondicionado           4841 non-null   int64  \n",
      " 9   camara_trasera               4841 non-null   int64  \n",
      " 10  asientos_traseros_plegables  4841 non-null   int64  \n",
      " 11  elevalunas_electrico         4841 non-null   int64  \n",
      " 12  bluetooth                    4841 non-null   int64  \n",
      " 13  gps                          4841 non-null   int64  \n",
      " 14  alerta_lim_velocidad         4841 non-null   int64  \n",
      " 15  precio                       4841 non-null   float64\n",
      " 16  TARGET_LN                    4841 non-null   float64\n",
      " 17  dias_hasta_venta             4841 non-null   int64  \n",
      " 18  year_registro                4841 non-null   int64  \n",
      " 19  month_registro               4841 non-null   int64  \n",
      " 20  day_registro                 4841 non-null   int64  \n",
      " 21  weekday_registro             4841 non-null   int64  \n",
      " 22  quarter_registro             4841 non-null   int64  \n",
      " 23  week_registro                4841 non-null   int64  \n",
      " 24  year_venta                   4841 non-null   int64  \n",
      " 25  month_venta                  4841 non-null   int64  \n",
      " 26  day_venta                    4841 non-null   int64  \n",
      " 27  weekday_venta                4841 non-null   int64  \n",
      " 28  quarter_venta                4841 non-null   int64  \n",
      " 29  week_venta                   4841 non-null   int64  \n",
      "dtypes: float64(4), int64(21), object(5)\n",
      "memory usage: 1.3+ MB\n"
     ]
    }
   ],
   "source": [
    "df.info()"
   ]
  },
  {
   "cell_type": "markdown",
   "metadata": {},
   "source": [
    "# OHE"
   ]
  },
  {
   "cell_type": "code",
   "execution_count": 101,
   "metadata": {},
   "outputs": [],
   "source": [
    "def OHE(dataframe, column):\n",
    "  dummies_ds = pd.get_dummies(dataframe[column], prefix = column)\n",
    "  dataframe = pd.concat([dataframe, dummies_ds], axis = 1)\n",
    "  return dataframe.drop(column, axis = 1)"
   ]
  },
  {
   "cell_type": "code",
   "execution_count": 102,
   "metadata": {},
   "outputs": [
    {
     "name": "stderr",
     "output_type": "stream",
     "text": [
      "C:\\Users\\JORDIG~1\\AppData\\Local\\Temp/ipykernel_1992/4194365281.py:1: DeprecationWarning: `np.object` is a deprecated alias for the builtin `object`. To silence this warning, use `object` by itself. Doing this will not modify any behavior and is safe. \n",
      "Deprecated in NumPy 1.20; for more details and guidance: https://numpy.org/devdocs/release/1.20.0-notes.html#deprecations\n",
      "  for col in df.describe(include = np.object).columns:\n"
     ]
    }
   ],
   "source": [
    "for col in df.describe(include = np.object).columns:\n",
    "  df = OHE(df, col)"
   ]
  },
  {
   "cell_type": "code",
   "execution_count": 103,
   "metadata": {},
   "outputs": [
    {
     "name": "stdout",
     "output_type": "stream",
     "text": [
      "<class 'pandas.core.frame.DataFrame'>\n",
      "Int64Index: 4841 entries, 0 to 4842\n",
      "Data columns (total 61 columns):\n",
      " #   Column                       Non-Null Count  Dtype  \n",
      "---  ------                       --------------  -----  \n",
      " 0   km                           4841 non-null   float64\n",
      " 1   potencia                     4841 non-null   float64\n",
      " 2   volante_regulable            4841 non-null   int64  \n",
      " 3   aire_acondicionado           4841 non-null   int64  \n",
      " 4   camara_trasera               4841 non-null   int64  \n",
      " 5   asientos_traseros_plegables  4841 non-null   int64  \n",
      " 6   elevalunas_electrico         4841 non-null   int64  \n",
      " 7   bluetooth                    4841 non-null   int64  \n",
      " 8   gps                          4841 non-null   int64  \n",
      " 9   alerta_lim_velocidad         4841 non-null   int64  \n",
      " 10  precio                       4841 non-null   float64\n",
      " 11  TARGET_LN                    4841 non-null   float64\n",
      " 12  dias_hasta_venta             4841 non-null   int64  \n",
      " 13  year_registro                4841 non-null   int64  \n",
      " 14  month_registro               4841 non-null   int64  \n",
      " 15  day_registro                 4841 non-null   int64  \n",
      " 16  weekday_registro             4841 non-null   int64  \n",
      " 17  quarter_registro             4841 non-null   int64  \n",
      " 18  week_registro                4841 non-null   int64  \n",
      " 19  year_venta                   4841 non-null   int64  \n",
      " 20  month_venta                  4841 non-null   int64  \n",
      " 21  day_venta                    4841 non-null   int64  \n",
      " 22  weekday_venta                4841 non-null   int64  \n",
      " 23  quarter_venta                4841 non-null   int64  \n",
      " 24  week_venta                   4841 non-null   int64  \n",
      " 25  marca_BMW                    4841 non-null   uint8  \n",
      " 26  modelo_116                   4841 non-null   uint8  \n",
      " 27  modelo_118                   4841 non-null   uint8  \n",
      " 28  modelo_316                   4841 non-null   uint8  \n",
      " 29  modelo_318                   4841 non-null   uint8  \n",
      " 30  modelo_320                   4841 non-null   uint8  \n",
      " 31  modelo_520                   4841 non-null   uint8  \n",
      " 32  modelo_525                   4841 non-null   uint8  \n",
      " 33  modelo_530                   4841 non-null   uint8  \n",
      " 34  modelo_Others                4841 non-null   uint8  \n",
      " 35  modelo_X1                    4841 non-null   uint8  \n",
      " 36  modelo_X3                    4841 non-null   uint8  \n",
      " 37  modelo_X5                    4841 non-null   uint8  \n",
      " 38  tipo_gasolina_Others         4841 non-null   uint8  \n",
      " 39  tipo_gasolina_diesel         4841 non-null   uint8  \n",
      " 40  tipo_gasolina_petrol         4841 non-null   uint8  \n",
      " 41  color_Others_null            4841 non-null   uint8  \n",
      " 42  color_beige                  4841 non-null   uint8  \n",
      " 43  color_black                  4841 non-null   uint8  \n",
      " 44  color_blue                   4841 non-null   uint8  \n",
      " 45  color_brown                  4841 non-null   uint8  \n",
      " 46  color_green                  4841 non-null   uint8  \n",
      " 47  color_grey                   4841 non-null   uint8  \n",
      " 48  color_orange                 4841 non-null   uint8  \n",
      " 49  color_red                    4841 non-null   uint8  \n",
      " 50  color_silver                 4841 non-null   uint8  \n",
      " 51  color_white                  4841 non-null   uint8  \n",
      " 52  tipo_coche_Others_null       4841 non-null   uint8  \n",
      " 53  tipo_coche_convertible       4841 non-null   uint8  \n",
      " 54  tipo_coche_coupe             4841 non-null   uint8  \n",
      " 55  tipo_coche_estate            4841 non-null   uint8  \n",
      " 56  tipo_coche_hatchback         4841 non-null   uint8  \n",
      " 57  tipo_coche_sedan             4841 non-null   uint8  \n",
      " 58  tipo_coche_subcompact        4841 non-null   uint8  \n",
      " 59  tipo_coche_suv               4841 non-null   uint8  \n",
      " 60  tipo_coche_van               4841 non-null   uint8  \n",
      "dtypes: float64(4), int64(21), uint8(36)\n",
      "memory usage: 1.3 MB\n"
     ]
    }
   ],
   "source": [
    "df.info()"
   ]
  },
  {
   "cell_type": "code",
   "execution_count": null,
   "metadata": {},
   "outputs": [],
   "source": []
  }
 ],
 "metadata": {
  "interpreter": {
   "hash": "eca1d84a86ba3dac79d7db57e28866271eac71d4e4e45bb4a2140a48d9a20b81"
  },
  "kernelspec": {
   "display_name": "Python 3.9.7 64-bit ('base': conda)",
   "language": "python",
   "name": "python3"
  },
  "language_info": {
   "codemirror_mode": {
    "name": "ipython",
    "version": 3
   },
   "file_extension": ".py",
   "mimetype": "text/x-python",
   "name": "python",
   "nbconvert_exporter": "python",
   "pygments_lexer": "ipython3",
   "version": "3.9.7"
  },
  "orig_nbformat": 4
 },
 "nbformat": 4,
 "nbformat_minor": 2
}
